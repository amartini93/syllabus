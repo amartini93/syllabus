{
 "cells": [
  {
   "cell_type": "markdown",
   "metadata": {},
   "source": [
    "##P5\n",
    "\n",
    "Suponga que un servicio de correo electrónico recibe solo el e-mail (el browser ya llena automáticamente el password, despreocúpese de ese textbox) y al intentar acceder al servicio este verifica que es un e-mail válido.\n",
    "\n",
    "Una dirección de correo electrónico es válida si cumple con el formato: **x** @ **y**\n",
    "\n",
    "* Solo existe el caracter @ entre los strings **x** e **y**\n",
    "* El string **y** puede contener más de un dominio (ej: puc.cl, ing.puc.cl)\n",
    "* Solo se permiten dominios chilenos, *i.e.* dominio final **cl**\n",
    "* Ningún string puede ser vacío."
   ]
  },
  {
   "cell_type": "markdown",
   "metadata": {},
   "source": [
    "a) (15 pts) Escriba en Python la función verificadora."
   ]
  },
  {
   "cell_type": "code",
   "execution_count": 2,
   "metadata": {
    "collapsed": true
   },
   "outputs": [],
   "source": [
    "def func_verificadora(email):\n",
    "    comp = email.split(\"@\")  # Componentes\n",
    "    if not len(comp) == 2:  # Exactamente un \"@\"\n",
    "        return False\n",
    "    if not comp[0] or not comp[1]:  # Antes y después de @ no vacíos\n",
    "        return False\n",
    "    dom = comp[1].split(\".\")  # Sub dominios\n",
    "    if not dom[-1] == \"cl\":  # Solo dominios chilenos\n",
    "        return False\n",
    "    for d in dom:  # Ningún sub dominio puede ser vacío. Se asume que puntos sepran sub dominios.\n",
    "        if not d:\n",
    "            return False\n",
    "    return True"
   ]
  },
  {
   "cell_type": "markdown",
   "metadata": {},
   "source": [
    "##Asignación de puntaje\n",
    "* (3.75 ptos) Verificar que solo existe el caracter @ entre los strings **x** e **y**\n",
    "* (3.75 ptos) Verificar que el string **y** puede contener más de un dominio (ej: puc.cl, ing.puc.cl)\n",
    "* (3.75 ptos) Verificar que solo se permiten dominios chilenos, *i.e.* dominio final **cl**\n",
    "* (3.75 ptos) Verificar que ningún string puede ser vacío."
   ]
  },
  {
   "cell_type": "markdown",
   "metadata": {},
   "source": [
    "b(5 ptos) Dibuje y conecte los widgets principales de la interfaz con la función verificadora del input del ususario (preocúpese de manejar solo los elementos gráficos relacionados a esta función)."
   ]
  },
  {
   "cell_type": "code",
   "execution_count": null,
   "metadata": {
    "collapsed": false
   },
   "outputs": [],
   "source": [
    "import sys\n",
    "from PyQt4 import QtGui, QtCore\n",
    "\n",
    "class Correo(QtGui.QWidget):\n",
    "    def __init__(self):\n",
    "        super(Correo, self).__init__()\n",
    "        self.initUI()\n",
    "\n",
    "\n",
    "    def initUI(self):\n",
    "        self.button = QtGui.QPushButton('Ingresar')\n",
    "        self.button.clicked.connect(self.buttonClicked)\n",
    "\n",
    "        self.email_text = QtGui.QLineEdit()\n",
    "\n",
    "        self.vbox = QtGui.QVBoxLayout()\n",
    "        self.vbox.addWidget(self.button)\n",
    "        self.vbox.addWidget(self.email_text)\n",
    "\n",
    "        self.setLayout(self.vbox)\n",
    "\n",
    "        self.setGeometry(0, 0, 200, 200)\n",
    "        self.show()\n",
    "\n",
    "\n",
    "    def buttonClicked(self):\n",
    "        email = self.email_text.text()\n",
    "        if func_verificadora(email):\n",
    "            pass\n",
    "            # Hacer lo que correspomde\n",
    "        else:\n",
    "            QtGui.QMessageBox.question(None, 'ERROR', 'Dirección de correo inválida', QtGui.QMessageBox.Ok)\n",
    "\n",
    "if __name__ == '__main__':\n",
    "    app = QtGui.QApplication(sys.argv)\n",
    "    interfaz = Correo()\n",
    "    sys.exit(app.exec_())"
   ]
  },
  {
   "cell_type": "markdown",
   "metadata": {},
   "source": [
    "##Asignación Puntaje\n",
    "* (1.5 pts) Por QtGui.QPushButton o símil\n",
    "* (1.5 pts) Por QtGui.QLineEdit o símil\n",
    "* (1.5 pts) Por conectar evento click botón (`button.clicked.connect(self.buttonClicked)`)\n",
    "* (1.5 pts) Por usar función verificadora al detonar evento"
   ]
  },
  {
   "cell_type": "markdown",
   "metadata": {},
   "source": []
  }
 ],
 "metadata": {
  "kernelspec": {
   "display_name": "Python 3",
   "language": "python",
   "name": "python3"
  },
  "language_info": {
   "codemirror_mode": {
    "name": "ipython",
    "version": 3
   },
   "file_extension": ".py",
   "mimetype": "text/x-python",
   "name": "python",
   "nbconvert_exporter": "python",
   "pygments_lexer": "ipython3",
   "version": "3.4.3"
  }
 },
 "nbformat": 4,
 "nbformat_minor": 0
}
