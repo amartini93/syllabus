{
 "cells": [
  {
   "cell_type": "markdown",
   "metadata": {},
   "source": [
    "# Pregunta 1"
   ]
  },
  {
   "cell_type": "markdown",
   "metadata": {},
   "source": [
    "Una posible solución al problema se presenta a continuación:"
   ]
  },
  {
   "cell_type": "markdown",
   "metadata": {},
   "source": [
    "### Solución"
   ]
  },
  {
   "cell_type": "code",
   "execution_count": 4,
   "metadata": {
    "collapsed": false,
    "scrolled": true
   },
   "outputs": [
    {
     "name": "stdout",
     "output_type": "stream",
     "text": [
      "asignar_ip output: {'AACC89': '61.122.202.244', 'AACC23': '15.95.160.53'}\n",
      "capturar output: ['00101010', '00101010']\n"
     ]
    }
   ],
   "source": [
    "class Camara:\n",
    "    '''\n",
    "    Esta clase esta solo para poder interpretar el programa.\n",
    "    No era necesario implementarla.\n",
    "    '''\n",
    "\n",
    "    def capturar(self):\n",
    "        '''\n",
    "        Creado solo para que el programa pueda ser interpretado.\n",
    "        '''\n",
    "        return \"00101010\"\n",
    "\n",
    "\n",
    "class CamaraIP:\n",
    "\n",
    "    @classmethod\n",
    "    def from_data(cls, data):\n",
    "        '''\n",
    "        Creamos una instancia de la clase a partir de una data.\n",
    "        No es necesario crear esta funcion, se puede asumir.\n",
    "        '''\n",
    "        camara = cls()\n",
    "        camara.serie = data['serie']\n",
    "        camara.modo = data['modo']\n",
    "        camara.fps = data['fps']\n",
    "        camara.mac = data['mac']\n",
    "        camara.camara_normal = Camara()\n",
    "        return camara\n",
    "\n",
    "\n",
    "class Sistema:\n",
    "\n",
    "    def __init__(self, data_camaras_ip, max_ips=100):\n",
    "        '''\n",
    "        Al momento de crear una instancia generamos las IPs y\n",
    "        creamos las Camaras IP de la data recibida.\n",
    "        La cantidad maxima de IPs queda a gusto del programador.\n",
    "        '''\n",
    "        self.ips_disponibles = [Sistema.ip_gen() for i in range(max_ips)]\n",
    "        self.camaras_ip = [CamaraIP.from_data(d) for d in data_camaras_ip]\n",
    "\n",
    "    def asignar_ip(self):\n",
    "        '''\n",
    "        Asignamos todas las IP que se puedan hasta que se acaben.\n",
    "        '''\n",
    "        for camara in self.camaras_ip:\n",
    "            if len(self.ips_disponibles) > 0:\n",
    "                camara.ip = self.ips_disponibles.pop()\n",
    "            else:\n",
    "                print(\"No quedan IPs disponibles\")\n",
    "\n",
    "        # Este retorno es solo por para mostrar que funciona.\n",
    "        return {camara.mac: camara.ip for camara in self.camaras_ip}\n",
    "\n",
    "    def capturar(self):\n",
    "        return [c.camara_normal.capturar() for c in self.camaras_ip]\n",
    "\n",
    "    @staticmethod\n",
    "    def ip_gen():\n",
    "        '''\n",
    "        Generamos de manera bien Pythonistica una IP aleatoria.\n",
    "        Para motivos de la prueba se puede asumir que las IPs existen y\n",
    "        no es necesario esto.\n",
    "        '''\n",
    "        import random\n",
    "        return '.'.join(str(random.randint(0, 255)) for i in range(4))\n",
    "\n",
    "\n",
    "if __name__ == '__main__':\n",
    "    listado_camaras = [\n",
    "        {'serie': 123, 'modo': '640x480', 'fps': 30, 'mac': 'AACC23'},\n",
    "        {'serie': 456, 'modo': '1024x720', 'fps': 30, 'mac': 'AACC89'}\n",
    "    ]\n",
    "\n",
    "    sistema = Sistema(data_camaras_ip=listado_camaras)\n",
    "    print(\"asignar_ip output: {}\".format(sistema.asignar_ip()))\n",
    "    print(\"capturar output: {}\".format(sistema.capturar()))"
   ]
  },
  {
   "cell_type": "markdown",
   "metadata": {},
   "source": [
    "### Distribución del puntaje\n",
    "\n",
    "**Puntaje:**\n",
    "\n",
    "**Importante: El puntaje asignado aquí se multiplica por 15/6**\n",
    "\n",
    "* (1.0 ptos) Presencia del listado de IPs.\n",
    "* (2.0 ptos) Generar listas de cámaras.\n",
    "    * Solo se asignará (0.5 ptos) si guarda la lista tal y como llegó.\n",
    "* (1.0 ptos) Asignar correctamente las IPs a las Cámaras IP\n",
    "    * Solo se asignará (0.5 ptos) si no maneja la ausencia de IPs libres restantes.\n",
    "* (2.0 ptos) Implementacion correcta de `capturar()`."
   ]
  },
  {
   "cell_type": "markdown",
   "metadata": {},
   "source": [
    "#Pregunta 2"
   ]
  },
  {
   "cell_type": "markdown",
   "metadata": {},
   "source": [
    "a) Solución propuesta por profesores:"
   ]
  },
  {
   "cell_type": "code",
   "execution_count": 5,
   "metadata": {
    "collapsed": false
   },
   "outputs": [
    {
     "name": "stdout",
     "output_type": "stream",
     "text": [
      "Componentes(biblioteca)-> {'puerta', 'mesa', 'libro', 'estante', 'silla', 'cubiculo', 'hojas'}\n"
     ]
    }
   ],
   "source": [
    "L = [ (\"biblioteca\",\"estante\") , (\"biblioteca\",\"cubiculo\") , (\"estante\",\"libro\") , (\"libro\",\"hojas\") ,\n",
    "     (\"cubiculo\",\"mesa\") , (\"cubiculo\",\"silla\") , (\"cubiculo\",\"puerta\"), (\"libro\",\"puerta\")]\n",
    "\n",
    "def componentes(item, lista):\n",
    "    # Usar sets es adecuado para que no se repitan entidades que ya están\n",
    "    result = set(lista[a][1] for a in range(len(lista)) if lista[a][0] == item)\n",
    "    if len(result):\n",
    "        l_aux = []\n",
    "        for i in result:\n",
    "            # El filter remueve los pares que tienen como segundo elemento el mismo componente\n",
    "            # pues ya sabemos que no nos servirán\n",
    "            l_aux.extend(componentes(i, list(filter((lambda x: x[1] != i), lista))))\n",
    "        result = result.union({li for li in l_aux})\n",
    "        return result\n",
    "    return set()\n",
    "\n",
    "select = \"biblioteca\"\n",
    "print(\"Componentes({})-> {}\".format(select, componentes(select, L)))"
   ]
  },
  {
   "cell_type": "markdown",
   "metadata": {},
   "source": [
    "### Distribución del puntaje\n",
    "\n",
    "**Puntaje:**\n",
    "\n",
    "* (5.0 ptos) Seleccionar/encontrar componentes contenidos en el `item` en cuestión, en cada iteración.\n",
    "* (5.0 ptos) Extender adecuadamente la lista o set de resultados:\n",
    "    * Por cada componente.\n",
    "    * Por los componentes de cada componente.\n",
    "* (5.0 ptos) Utilizar bien recursión.\n",
    "    * Si se usa `for` (que resuelva bien) para reemplazar la recursión, se asigna la mitad del puntaje."
   ]
  },
  {
   "cell_type": "markdown",
   "metadata": {},
   "source": [
    "b) Dado el siguiente código en Python explique lo que hace cada método y genere la salida\n",
    "descrita en el `main`:"
   ]
  },
  {
   "cell_type": "code",
   "execution_count": 6,
   "metadata": {
    "collapsed": false
   },
   "outputs": [
    {
     "name": "stdout",
     "output_type": "stream",
     "text": [
      "((3-4)+2)\n"
     ]
    }
   ],
   "source": [
    "class Nodo:\n",
    "\n",
    "    def __init__(self, valor, izquierda=None, derecha=None):\n",
    "        self.valor = valor\n",
    "        self.izquierda = izquierda\n",
    "        self.derecha = derecha\n",
    "    \n",
    "    def m1(self, f):\n",
    "        r='' \n",
    "        if self.izquierda:\n",
    "            r+= f('pre',self.valor) + self.izquierda.m1(f)\n",
    "        \n",
    "        r+= f('in', self.valor)\n",
    "        \n",
    "        if self.derecha:\n",
    "            r+= self.derecha.m1(f) + f('post', self.valor)\n",
    "        return r\n",
    "\n",
    "class Arbol:\n",
    "\n",
    "    def __init__(self, raiz):\n",
    "        self.raiz = raiz\n",
    "    \n",
    "    def m2(self, f):\n",
    "        if self.raiz: return self.raiz.m1(f)\n",
    "        else: return None\n",
    "    \n",
    "    def __repr__(self):\n",
    "        def m3(s, valor):\n",
    "            if s == 'pre':\n",
    "                return '('\n",
    "            elif s == 'in':\n",
    "                return str(valor)\n",
    "            else:\n",
    "                return ')'    \n",
    "        return self.m2(m3)\n",
    "\n",
    "    \n",
    "T = Arbol(Nodo('+', Nodo('-', Nodo(3), Nodo(4)), Nodo(2)))\n",
    "print(T)"
   ]
  },
  {
   "cell_type": "markdown",
   "metadata": {},
   "source": [
    "###Respuesta"
   ]
  },
  {
   "cell_type": "markdown",
   "metadata": {},
   "source": [
    "* `Arbol.__repr__`:\n",
    "En este caso, llama al método 'm2' de la instancia 'T'(del tipo 'Arbol'), pasándole como parámetro su función `m3`.\n",
    "En `m3`, según el parámetro `s` (del tipo `string`), se determina lo que se imprime en consola. Si `s` es igual a \"pre\", se imprime \"(\"; si es \"in\", se imprime la representación del parámetro `valor` pasado a la función; si es cualquier otra cosa (como \"post\") se imprimirá \").\n",
    "\n",
    "* `Arbol.m2`:\n",
    "Llama al método `m1` del campo `raiz` (del tipo `Nodo` en esta instancia), pasándole como parámetro la función `m3` de `T.__repr__` (donde `T` es una instancia de `Arbol`). Particularmente se pasa `m3` en este caso; podría ser cualquier función bajo otras circunstancias.\n",
    "\n",
    "* `Arbol.__init__`:\n",
    "Inicializador de objetos del tipo `Arbol`. Se asigna un valor o referencia al campo `raiz` del objeto. En este caso, se está simulando una estructura de datos de tipo árbol, donde el campo `raiz` (del tipo `Nodo`) viene a ser el nodo raíz de esta estructura.\n",
    "\n",
    "* `Nodo.__init__`:\n",
    "Inicializador de objetos del tipo `Nodo`. Le asigna obligatoriamente un valor o referencia al campo `valor` del objeto y opcionalmente le asigna valores o referencias a los campos `izquierda` y/o `derecha`. En este caso, se usó para guardar referencias de objetos tipo `Nodo` en `izquierda` y `derecha`.\n",
    "\n",
    "* `Nodo.m1`:\n",
    "En este caso, llama a la función `__repr__.m3` del objeto `T`(del tipo `Arbol`) para que imprima recursivamente según los parámetros que le va pasando. Abstrayéndonos de la clase `Nodo`, toma el nodo raíz del árbol que simula la instancia `T` de la clase `Arbol` y viaja estrictamente hacia la izquierda del árbol. Por cada nodo que pasa, imprime un paréntesis izquierdo (sin contar el nodo raíz). Luego, imprime el campo `valor` de ese último nodo y si hay un nodo a la derecha, va a repetir el mismo procedimiento como si este último fuera el nodo raíz, hasta llegar a una hoja. Va  imprimir el campo `valor` de esta hoja. Luego, retorna por su camino. Por cada vez que se vuelva por el lado izquierdo de un nodo, se imprime el campo `valor`. Si se viene desde la derecha, se imprime un paréntesis derecho. Si llega a un nodo donde no ha tomado alguno de sus caminos, se desvía de su camino de regreso y toma el de ida por uno de esos caminos no recorridos, tomando el nodo en cuestión como nodo raíz. Se repite el procedimiento descrito previamente, hasta recorrer todos los caminos del árbol."
   ]
  },
  {
   "cell_type": "markdown",
   "metadata": {},
   "source": [
    "### Distribución del puntaje\n",
    "\n",
    "**Puntaje:**\n",
    "\n",
    "* (2.0 ptos) Explicación `Arbol.__repr__`\n",
    "* (1.0 ptos) Explicación `Arbol.m2`.\n",
    "* (1.0 ptos) Explicación `Nodo.__init__` y `Arbol.__init__`\n",
    "* (3.0 ptos) Explicación `Nodo.m1`\n",
    "    * Se permiten otras explicaciones: esta explicación es didáctica, pero se aceptan explicaciones más teóricas (más orientadas\n",
    "    * a cómo opera el método en lugar de abstrarse y recorrerlo como árbol).\n",
    "* (3.0 ptos) Salida correcta."
   ]
  },
  {
   "cell_type": "markdown",
   "metadata": {},
   "source": [
    "# Pregunta 3\n",
    "\n",
    "**a) MetaClases: Clase que no puede ser subclaseada**\n",
    "\n",
    "Defina una metaclase que asegure que la clase que se está creando no puede ser subclaseada, es decir, cualquier intento del programador de heredar de esta clase debería imprimir un error.\n",
    "\n",
    "### Respuesta"
   ]
  },
  {
   "cell_type": "code",
   "execution_count": 7,
   "metadata": {
    "collapsed": false
   },
   "outputs": [
    {
     "name": "stdout",
     "output_type": "stream",
     "text": [
      "True\n"
     ]
    },
    {
     "ename": "TypeError",
     "evalue": "type 'C' is not an acceptable base type",
     "output_type": "error",
     "traceback": [
      "\u001b[0;31m---------------------------------------------------------------------------\u001b[0m",
      "\u001b[0;31mTypeError\u001b[0m                                 Traceback (most recent call last)",
      "\u001b[0;32m<ipython-input-7-fb9bab6eefad>\u001b[0m in \u001b[0;36m<module>\u001b[0;34m()\u001b[0m\n\u001b[1;32m      8\u001b[0m \u001b[0;32mclass\u001b[0m \u001b[0mC\u001b[0m\u001b[0;34m(\u001b[0m\u001b[0mmetaclass\u001b[0m\u001b[0;34m=\u001b[0m\u001b[0mMetaFinal\u001b[0m\u001b[0;34m)\u001b[0m\u001b[0;34m:\u001b[0m \u001b[0;32mpass\u001b[0m\u001b[0;34m\u001b[0m\u001b[0m\n\u001b[1;32m      9\u001b[0m \u001b[0mprint\u001b[0m\u001b[0;34m(\u001b[0m\u001b[0misinstance\u001b[0m\u001b[0;34m(\u001b[0m\u001b[0mC\u001b[0m\u001b[0;34m,\u001b[0m \u001b[0mMetaFinal\u001b[0m\u001b[0;34m)\u001b[0m\u001b[0;34m)\u001b[0m\u001b[0;34m\u001b[0m\u001b[0m\n\u001b[0;32m---> 10\u001b[0;31m \u001b[0;32mclass\u001b[0m \u001b[0mD\u001b[0m\u001b[0;34m(\u001b[0m\u001b[0mC\u001b[0m\u001b[0;34m)\u001b[0m\u001b[0;34m:\u001b[0m \u001b[0;32mpass\u001b[0m\u001b[0;34m\u001b[0m\u001b[0m\n\u001b[0m",
      "\u001b[0;32m<ipython-input-7-fb9bab6eefad>\u001b[0m in \u001b[0;36m__new__\u001b[0;34m(cls, name, bases, classdict)\u001b[0m\n\u001b[1;32m      3\u001b[0m         \u001b[0;32mfor\u001b[0m \u001b[0mb\u001b[0m \u001b[0;32min\u001b[0m \u001b[0mbases\u001b[0m\u001b[0;34m:\u001b[0m\u001b[0;34m\u001b[0m\u001b[0m\n\u001b[1;32m      4\u001b[0m             \u001b[0;32mif\u001b[0m \u001b[0misinstance\u001b[0m\u001b[0;34m(\u001b[0m\u001b[0mb\u001b[0m\u001b[0;34m,\u001b[0m \u001b[0mMetaFinal\u001b[0m\u001b[0;34m)\u001b[0m\u001b[0;34m:\u001b[0m\u001b[0;34m\u001b[0m\u001b[0m\n\u001b[0;32m----> 5\u001b[0;31m                 \u001b[0;32mraise\u001b[0m \u001b[0mTypeError\u001b[0m\u001b[0;34m(\u001b[0m\u001b[0;34m\"type '{0}' is not an acceptable base type\"\u001b[0m\u001b[0;34m.\u001b[0m\u001b[0mformat\u001b[0m\u001b[0;34m(\u001b[0m\u001b[0mb\u001b[0m\u001b[0;34m.\u001b[0m\u001b[0m__name__\u001b[0m\u001b[0;34m)\u001b[0m\u001b[0;34m)\u001b[0m\u001b[0;34m\u001b[0m\u001b[0m\n\u001b[0m\u001b[1;32m      6\u001b[0m         \u001b[0;32mreturn\u001b[0m \u001b[0mtype\u001b[0m\u001b[0;34m.\u001b[0m\u001b[0m__new__\u001b[0m\u001b[0;34m(\u001b[0m\u001b[0mcls\u001b[0m\u001b[0;34m,\u001b[0m \u001b[0mname\u001b[0m\u001b[0;34m,\u001b[0m \u001b[0mbases\u001b[0m\u001b[0;34m,\u001b[0m \u001b[0mdict\u001b[0m\u001b[0;34m(\u001b[0m\u001b[0mclassdict\u001b[0m\u001b[0;34m)\u001b[0m\u001b[0;34m)\u001b[0m\u001b[0;34m\u001b[0m\u001b[0m\n\u001b[1;32m      7\u001b[0m \u001b[0;34m\u001b[0m\u001b[0m\n",
      "\u001b[0;31mTypeError\u001b[0m: type 'C' is not an acceptable base type"
     ]
    }
   ],
   "source": [
    "class MetaFinal(type):\n",
    "    def __new__(cls, name, bases, classdict):\n",
    "        for b in bases:\n",
    "            if isinstance(b, MetaFinal):                                       \n",
    "                raise TypeError(\"type '{0}' is not an acceptable base type\".format(b.__name__))\n",
    "        return type.__new__(cls, name, bases, dict(classdict))\n",
    "\n",
    "class C(metaclass=MetaFinal): pass\n",
    "print(isinstance(C, MetaFinal))\n",
    "class D(C): pass"
   ]
  },
  {
   "cell_type": "markdown",
   "metadata": {},
   "source": [
    "### Distribución del puntaje\n",
    "\n",
    "**Puntaje:**\n",
    "\n",
    "* (13.0 ptos) Funciona perfecto\n",
    "* (11.0 ptos) Pequeños errores\n",
    "* (9.0 ptos) Buena idea, pero tiene errores más grandes\n",
    "* (5.0 ptos) Intenta, pero su idea no es suficiente\n",
    "* (3.0 ptos) Idea mala. No funciona y contiene muchos errores"
   ]
  },
  {
   "cell_type": "markdown",
   "metadata": {},
   "source": [
    "** b) Meta Clases: Singleton**\n",
    "\n",
    "Defina una metaclase que asegure que cada vez que se llama a la clase para crear una nueva instancia, ésta retorne una nueva instancia sólo si ninguna se ha creado antes, en otro caso, se debería retornar la misma instancia creada la primera vez."
   ]
  },
  {
   "cell_type": "code",
   "execution_count": null,
   "metadata": {
    "collapsed": false
   },
   "outputs": [],
   "source": [
    "class MetaSoloUna(type):\n",
    "    instance = None\n",
    "    def __call__(cls, *args, **kw):\n",
    "        if not cls.instance:\n",
    "             cls.instance = super().__call__(*args, **kw)\n",
    "        return cls.instance\n",
    "    \n",
    "class SoloUna(metaclass=MetaSoloUna):\n",
    "    pass\n",
    "\n",
    "print(SoloUna.instance == None)\n",
    "a = SoloUna()\n",
    "print(a.instance == None)\n",
    "b = SoloUna()\n",
    "print(a is b)\n",
    "print(id(a))\n",
    "print(id(b))"
   ]
  },
  {
   "cell_type": "markdown",
   "metadata": {},
   "source": [
    "# Pregunta 4"
   ]
  },
  {
   "cell_type": "markdown",
   "metadata": {},
   "source": [
    "a) Explique qué es un decorador y para qué puede servir"
   ]
  },
  {
   "cell_type": "markdown",
   "metadata": {},
   "source": [
    "###Respuesta\n",
    "\n",
    "Un decorador es una función que recibe una función `f1`, y retorna una función `f2` distinta, que normalmente es una versión modificada de la función que se recibió como parámetro. \n",
    "\n",
    "Los decoradores nos permiten agregar algún comportamiento o datos adicionales, incluso podemos decorar clases para modificarlas. Un beneficio es que nos evitan la necesidad de modificar el código de la función original.\n",
    "\n",
    "###Distribución del puntaje\n",
    "\n",
    "El puntaje asignado es uno de los que aparece acá:\n",
    "\n",
    "- (0.0 ptos) Respuesta incorrecta\n",
    "- (2.5 ptos) Correcta definición o correcta utilidad, pero no ambas\n",
    "- (5.0 ptos) Correcta definición y correcta utilidad"
   ]
  },
  {
   "cell_type": "markdown",
   "metadata": {},
   "source": [
    "b) Implemente la función **factorial** usando **reduce**"
   ]
  },
  {
   "cell_type": "code",
   "execution_count": null,
   "metadata": {
    "collapsed": false
   },
   "outputs": [],
   "source": [
    "from functools import reduce\n",
    "\n",
    "def factorial(n):\n",
    "    return reduce(lambda x,y: x*y, range(1, n + 1))\n",
    "\n",
    "# Ejemplos de que funciona\n",
    "print(factorial(3))\n",
    "print(factorial(4))\n",
    "print(factorial(5))\n",
    "print(factorial(9))"
   ]
  },
  {
   "cell_type": "markdown",
   "metadata": {},
   "source": [
    "### Distribución del puntaje\n",
    "\n",
    "El puntaje asignado es uno de los que aparece acá:\n",
    "\n",
    "- (0.0 ptos) Incorrecto, o no uso de **reduce**\n",
    "- (7.5 ptos) Errores leves o problemas de eficiencia\n",
    "- (10.0 ptos) Correcto"
   ]
  },
  {
   "cell_type": "markdown",
   "metadata": {},
   "source": [
    "c) Dadas dos listas de números `L1` y `L2`, genere un código que imprima el producto de todos\n",
    "los números contenidos en la lista `L3` cuyo elemento i-ésimo (`L3[i]`) es el que resulta de multiplicar\n",
    "`L1[i]*L2[i]`. Si `L1` y `L2` son de distinto tamaño, los elementos que sobran en la lista más larga deben\n",
    "no considerarse para la multiplicación. **No puede usar for ni if**"
   ]
  },
  {
   "cell_type": "code",
   "execution_count": null,
   "metadata": {
    "collapsed": false
   },
   "outputs": [],
   "source": [
    "# Listas de ejemplo\n",
    "\n",
    "L1 = [2,6,4,5]\n",
    "L2 = [3,7,9,8,3500]\n",
    "\n",
    "# Codigo\n",
    "from functools import reduce\n",
    "\n",
    "f = lambda x,y: x*y\n",
    "\n",
    "L3 = list(map(f, L1, L2))\n",
    "print(reduce(f, L3))"
   ]
  },
  {
   "cell_type": "markdown",
   "metadata": {},
   "source": [
    "### Distribución del puntaje\n",
    "\n",
    "- (5.0 ptos) Por computar correctamente L3 a partir de L1 y L2\n",
    "- (5.0 ptos) Por computar el resultado final e imprimirlo\n",
    "    - Se asignará solo 3.0 ptos si esta línea estaba correcta, pero en el ítem anterior se obtuvo 0.0 ptos.\n",
    "- Si se usó **for**, **if** o **while** no lleva puntaje"
   ]
  },
  {
   "cell_type": "markdown",
   "metadata": {},
   "source": [
    "d) Escriba la salida que el siguiente código genera con lo que se define en el main (justifique\n",
    "su respuesta)"
   ]
  },
  {
   "cell_type": "code",
   "execution_count": null,
   "metadata": {
    "collapsed": false
   },
   "outputs": [],
   "source": [
    "def version(modo):\n",
    "    def _version(cls):\n",
    "                \n",
    "        def _debug(self):\n",
    "            attr = vars(self)\n",
    "            print('MODO DEPURACION')\n",
    "            for a, v in attr.items():\n",
    "                print('{}: {} - {}'.format(a, v, type(v)))\n",
    "        \n",
    "        def _release(self):\n",
    "            return None\n",
    "        \n",
    "        dict_modos = {'DEBUG': _debug, 'RELEASE': _release}        \n",
    "        setattr(cls, '__call__', dict_modos[modo])\n",
    "        \n",
    "        return cls\n",
    "    return _version\n",
    "\n",
    "\n",
    "#@version('RELEASE')\n",
    "@version('DEBUG')\n",
    "class Imagen:\n",
    "    def __init__(self, size):\n",
    "        self.size = size\n",
    "        self._data = None\n",
    "    \n",
    "    @property\n",
    "    def data(self):\n",
    "        return self._data\n",
    "    \n",
    "    @data.setter\n",
    "    def data(self, data):\n",
    "        self._data = data\n",
    "\n",
    "if __name__ == '__main__':\n",
    "    img = Imagen((20,30))\n",
    "    img.data = [255, 50, 100]\n",
    "    img()"
   ]
  },
  {
   "cell_type": "markdown",
   "metadata": {},
   "source": [
    "### Distrubución de puntaje\n",
    "\n",
    "- (7.0 ptos) Por todas las líneas correctas (se asignará puntaje proporcional)\n",
    "    - Si las primeras líneas son correctas y existen líneas adicionales, habrá descuento de 2.3 puntos\n",
    "- (3.0 ptos) Buena justificación que incluya lo que hace el decorador `@version`, y en qué momento se imprime lo que se imprime y por qué"
   ]
  }
 ],
 "metadata": {
  "kernelspec": {
   "display_name": "Python 3",
   "language": "python",
   "name": "python3"
  },
  "language_info": {
   "codemirror_mode": {
    "name": "ipython",
    "version": 3
   },
   "file_extension": ".py",
   "mimetype": "text/x-python",
   "name": "python",
   "nbconvert_exporter": "python",
   "pygments_lexer": "ipython3",
   "version": "3.4.3"
  }
 },
 "nbformat": 4,
 "nbformat_minor": 0
}
